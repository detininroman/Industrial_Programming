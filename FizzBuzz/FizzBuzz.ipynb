{
 "cells": [
  {
   "cell_type": "code",
   "execution_count": 1,
   "metadata": {},
   "outputs": [],
   "source": [
    "def is_int(value):\n",
    "    try:\n",
    "        int(value)\n",
    "        return True\n",
    "    except ValueError:\n",
    "        return False"
   ]
  },
  {
   "cell_type": "code",
   "execution_count": 2,
   "metadata": {},
   "outputs": [],
   "source": [
    "def is_zero(value):\n",
    "    return (abs(value - 0.) < 1e-4)"
   ]
  },
  {
   "cell_type": "code",
   "execution_count": 3,
   "metadata": {},
   "outputs": [],
   "source": [
    "def mul_5(num):\n",
    "    if (is_int(num) == False):\n",
    "        return False\n",
    "    return (str(num)[-1] == '0' or str(num)[-1] == '5')"
   ]
  },
  {
   "cell_type": "code",
   "execution_count": 4,
   "metadata": {},
   "outputs": [],
   "source": [
    "def mul_3(num):\n",
    "    if (is_int(num) == False):\n",
    "        return False\n",
    "    if (is_zero(num)):\n",
    "        return True\n",
    "    \n",
    "    strnum = str(abs(int(num)))\n",
    "    summary = sum([int(item) for item in list(strnum)])\n",
    "        \n",
    "    if summary in [3, 6, 9]:\n",
    "        return True\n",
    "    elif summary in [0, 1, 2, 4, 5, 7, 8]:\n",
    "        return False\n",
    "    else:\n",
    "        return mul_3(summary)"
   ]
  },
  {
   "cell_type": "code",
   "execution_count": 5,
   "metadata": {},
   "outputs": [],
   "source": [
    "def fizz_buzz(numbers, output):\n",
    "    for i in numbers:\n",
    "        if (mul_3(i) and mul_5(i)):\n",
    "            output.append('fizzbuzz')\n",
    "        elif (mul_3(i)):\n",
    "            output.append('buzz')     \n",
    "        elif (mul_5(i)):\n",
    "            output.append('fizz')\n",
    "        else:\n",
    "            output.append(i)"
   ]
  },
  {
   "cell_type": "code",
   "execution_count": 6,
   "metadata": {},
   "outputs": [],
   "source": [
    "def test_normal():\n",
    "    arr, output = [1, 2, 3, 5, 15], []\n",
    "    fizz_buzz(arr, output)\n",
    "    print (output == [1, 2, 'buzz', 'fizz', 'fizzbuzz'])"
   ]
  },
  {
   "cell_type": "code",
   "execution_count": 7,
   "metadata": {},
   "outputs": [],
   "source": [
    "def test_big_numbers():\n",
    "    arr, output = [535555555555, 5500000000000000000000000, 10, 15, 35, 0, -2, -67, -55], []\n",
    "    fizz_buzz(arr, output)\n",
    "    print (output == ['fizz', 'fizz', 'fizz', 'fizzbuzz', 'fizz', 'fizzbuzz', -2, -67, 'fizz'])"
   ]
  },
  {
   "cell_type": "code",
   "execution_count": 8,
   "metadata": {},
   "outputs": [],
   "source": [
    "def test_double():\n",
    "    arr, output = [0.1, 0.02, 0.0003], []\n",
    "    fizz_buzz(arr, output)\n",
    "    print (output == [0.1, 0.02, 0.0003])"
   ]
  },
  {
   "cell_type": "code",
   "execution_count": 9,
   "metadata": {},
   "outputs": [],
   "source": [
    "def test_word():\n",
    "    arr, output = ['Acronis', 0, 333, 450], []\n",
    "    fizz_buzz(arr, output)\n",
    "    print (output == ['Acronis', 'fizzbuzz', 'buzz', 'fizzbuzz'])"
   ]
  },
  {
   "cell_type": "code",
   "execution_count": 10,
   "metadata": {},
   "outputs": [],
   "source": [
    "def test_input():\n",
    "    arr, output = [int(x) for x in input().split()], []\n",
    "    fizz_buzz(arr, output)\n",
    "    print (output)"
   ]
  },
  {
   "cell_type": "code",
   "execution_count": 11,
   "metadata": {},
   "outputs": [
    {
     "name": "stdout",
     "output_type": "stream",
     "text": [
      "True\n"
     ]
    }
   ],
   "source": [
    "test_normal()"
   ]
  },
  {
   "cell_type": "code",
   "execution_count": 12,
   "metadata": {},
   "outputs": [
    {
     "name": "stdout",
     "output_type": "stream",
     "text": [
      "True\n"
     ]
    }
   ],
   "source": [
    "test_big_numbers()"
   ]
  },
  {
   "cell_type": "code",
   "execution_count": 13,
   "metadata": {},
   "outputs": [
    {
     "name": "stdout",
     "output_type": "stream",
     "text": [
      "True\n"
     ]
    }
   ],
   "source": [
    "test_double()"
   ]
  },
  {
   "cell_type": "code",
   "execution_count": 14,
   "metadata": {},
   "outputs": [
    {
     "name": "stdout",
     "output_type": "stream",
     "text": [
      "True\n"
     ]
    }
   ],
   "source": [
    "test_word()"
   ]
  }
 ],
 "metadata": {
  "kernelspec": {
   "display_name": "Python 3",
   "language": "python",
   "name": "python3"
  },
  "language_info": {
   "codemirror_mode": {
    "name": "ipython",
    "version": 3
   },
   "file_extension": ".py",
   "mimetype": "text/x-python",
   "name": "python",
   "nbconvert_exporter": "python",
   "pygments_lexer": "ipython3",
   "version": "3.7.1"
  }
 },
 "nbformat": 4,
 "nbformat_minor": 2
}
