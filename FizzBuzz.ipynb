{
 "cells": [
  {
   "cell_type": "code",
   "execution_count": 5,
   "metadata": {},
   "outputs": [
    {
     "name": "stdout",
     "output_type": "stream",
     "text": [
      "535555555555 5500000000000000000000000 10 15 35  000  -2 -67 -55\n"
     ]
    }
   ],
   "source": [
    "a = [int(x) for x in input().split()]\n",
    "length = max(a)"
   ]
  },
  {
   "cell_type": "code",
   "execution_count": 6,
   "metadata": {},
   "outputs": [],
   "source": [
    "def mul_5(num):\n",
    "    strnum = str(num)\n",
    "    if (strnum[-1] == '0' or strnum[-1] == '5'):\n",
    "        return True\n",
    "    else:\n",
    "        return False"
   ]
  },
  {
   "cell_type": "code",
   "execution_count": 7,
   "metadata": {},
   "outputs": [],
   "source": [
    "def mul_3(num):\n",
    "    \n",
    "    strnum = str(abs(num))\n",
    "    sum = 0\n",
    "    for i in range(len(strnum)):\n",
    "        sum += int(strnum[i])\n",
    "        \n",
    "    if sum in [3, 6, 9]:\n",
    "        return True\n",
    "    \n",
    "    elif sum in [0, 1, 2, 4, 5, 7, 8]:\n",
    "        return False\n",
    "    \n",
    "    else:\n",
    "        return mul_3(sum)"
   ]
  },
  {
   "cell_type": "code",
   "execution_count": 8,
   "metadata": {},
   "outputs": [
    {
     "name": "stdout",
     "output_type": "stream",
     "text": [
      "fizz\n",
      "fizz\n",
      "fizz\n",
      "fizzbuzz\n",
      "fizz\n",
      "fizz\n",
      "-2\n",
      "-67\n",
      "fizz\n"
     ]
    }
   ],
   "source": [
    "for i in a:\n",
    "    if (mul_3(i) and mul_5(i)):\n",
    "        print('fizzbuzz')\n",
    "    elif (mul_3(i)):\n",
    "        print('buzz')     \n",
    "    elif (mul_5(i)):\n",
    "        print('fizz')\n",
    "    else:\n",
    "        print(i)"
   ]
  }
 ],
 "metadata": {
  "kernelspec": {
   "display_name": "Python 3",
   "language": "python",
   "name": "python3"
  },
  "language_info": {
   "codemirror_mode": {
    "name": "ipython",
    "version": 3
   },
   "file_extension": ".py",
   "mimetype": "text/x-python",
   "name": "python",
   "nbconvert_exporter": "python",
   "pygments_lexer": "ipython3",
   "version": "3.7.1"
  }
 },
 "nbformat": 4,
 "nbformat_minor": 2
}
